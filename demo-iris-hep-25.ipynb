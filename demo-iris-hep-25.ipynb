{
 "cells": [
  {
   "cell_type": "code",
   "execution_count": 1,
   "id": "e98ef62e-221c-403c-bc83-aa6054c9e543",
   "metadata": {},
   "outputs": [
    {
     "name": "stdout",
     "output_type": "stream",
     "text": [
      "Requirement already satisfied: atlas-schema in /usr/local/lib/python3.12/site-packages (0.4.1)\n",
      "Requirement already satisfied: coffea>=2025.7.0 in /usr/local/lib/python3.12/site-packages (from coffea[dask]>=2025.7.0->atlas-schema) (2025.9.0)\n",
      "Requirement already satisfied: particle>=0.25.0 in /usr/local/lib/python3.12/site-packages (from atlas-schema) (0.25.4)\n",
      "Requirement already satisfied: aiohttp in /usr/local/lib/python3.12/site-packages (from coffea>=2025.7.0->coffea[dask]>=2025.7.0->atlas-schema) (3.12.15)\n",
      "Requirement already satisfied: awkward>=2.8.9 in /usr/local/lib/python3.12/site-packages (from coffea>=2025.7.0->coffea[dask]>=2025.7.0->atlas-schema) (2.8.9)\n",
      "Requirement already satisfied: cachetools in /usr/local/lib/python3.12/site-packages (from coffea>=2025.7.0->coffea[dask]>=2025.7.0->atlas-schema) (6.2.0)\n",
      "Requirement already satisfied: cloudpickle>=1.2.3 in /usr/local/lib/python3.12/site-packages (from coffea>=2025.7.0->coffea[dask]>=2025.7.0->atlas-schema) (3.1.1)\n",
      "Requirement already satisfied: correctionlib>=2.6.0 in /usr/local/lib/python3.12/site-packages (from coffea>=2025.7.0->coffea[dask]>=2025.7.0->atlas-schema) (2.7.0)\n",
      "Requirement already satisfied: dask-awkward>=2025.9.0 in /usr/local/lib/python3.12/site-packages (from coffea>=2025.7.0->coffea[dask]>=2025.7.0->atlas-schema) (2025.9.0)\n",
      "Requirement already satisfied: dask-histogram>=2025.2.0 in /usr/local/lib/python3.12/site-packages (from coffea>=2025.7.0->coffea[dask]>=2025.7.0->atlas-schema) (2025.2.0)\n",
      "Requirement already satisfied: dask>=2024.3.0 in /usr/local/lib/python3.12/site-packages (from dask[array]>=2024.3.0->coffea>=2025.7.0->coffea[dask]>=2025.7.0->atlas-schema) (2025.3.0)\n",
      "Requirement already satisfied: hist>=2 in /usr/local/lib/python3.12/site-packages (from coffea>=2025.7.0->coffea[dask]>=2025.7.0->atlas-schema) (2.9.0)\n",
      "Requirement already satisfied: lz4 in /usr/local/lib/python3.12/site-packages (from coffea>=2025.7.0->coffea[dask]>=2025.7.0->atlas-schema) (4.4.4)\n",
      "Requirement already satisfied: matplotlib>=3 in /usr/local/lib/python3.12/site-packages (from coffea>=2025.7.0->coffea[dask]>=2025.7.0->atlas-schema) (3.10.6)\n",
      "Requirement already satisfied: mplhep>=0.1.18 in /usr/local/lib/python3.12/site-packages (from coffea>=2025.7.0->coffea[dask]>=2025.7.0->atlas-schema) (0.4.1)\n",
      "Requirement already satisfied: numba>=0.58.1 in /usr/local/lib/python3.12/site-packages (from coffea>=2025.7.0->coffea[dask]>=2025.7.0->atlas-schema) (0.61.2)\n",
      "Requirement already satisfied: numpy>=1.22 in /usr/local/lib/python3.12/site-packages (from coffea>=2025.7.0->coffea[dask]>=2025.7.0->atlas-schema) (2.2.6)\n",
      "Requirement already satisfied: packaging in /usr/local/lib/python3.12/site-packages (from coffea>=2025.7.0->coffea[dask]>=2025.7.0->atlas-schema) (25.0)\n",
      "Requirement already satisfied: pandas in /usr/local/lib/python3.12/site-packages (from coffea>=2025.7.0->coffea[dask]>=2025.7.0->atlas-schema) (2.3.2)\n",
      "Requirement already satisfied: pyarrow>=6.0.0 in /usr/local/lib/python3.12/site-packages (from coffea>=2025.7.0->coffea[dask]>=2025.7.0->atlas-schema) (21.0.0)\n",
      "Requirement already satisfied: requests in /usr/local/lib/python3.12/site-packages (from coffea>=2025.7.0->coffea[dask]>=2025.7.0->atlas-schema) (2.32.4)\n",
      "Requirement already satisfied: scipy>=1.1.0 in /usr/local/lib/python3.12/site-packages (from coffea>=2025.7.0->coffea[dask]>=2025.7.0->atlas-schema) (1.16.2)\n",
      "Requirement already satisfied: toml>=0.10.2 in /usr/local/lib/python3.12/site-packages (from coffea>=2025.7.0->coffea[dask]>=2025.7.0->atlas-schema) (0.10.2)\n",
      "Requirement already satisfied: tqdm>=4.27.0 in /usr/local/lib/python3.12/site-packages (from coffea>=2025.7.0->coffea[dask]>=2025.7.0->atlas-schema) (4.67.1)\n",
      "Requirement already satisfied: uproot>=5.6.0 in /usr/local/lib/python3.12/site-packages (from coffea>=2025.7.0->coffea[dask]>=2025.7.0->atlas-schema) (5.6.6)\n",
      "Requirement already satisfied: vector!=1.6.0,>=1.4.1 in /usr/local/lib/python3.12/site-packages (from coffea>=2025.7.0->coffea[dask]>=2025.7.0->atlas-schema) (1.6.3)\n",
      "Requirement already satisfied: awkward-cpp==50 in /usr/local/lib/python3.12/site-packages (from awkward>=2.8.9->coffea>=2025.7.0->coffea[dask]>=2025.7.0->atlas-schema) (50)\n",
      "Requirement already satisfied: fsspec>=2022.11.0 in /usr/local/lib/python3.12/site-packages (from awkward>=2.8.9->coffea>=2025.7.0->coffea[dask]>=2025.7.0->atlas-schema) (2025.9.0)\n",
      "Requirement already satisfied: bokeh!=3.0.*,>=2.4.2 in /usr/local/lib/python3.12/site-packages (from coffea[dask]>=2025.7.0->atlas-schema) (3.8.0)\n",
      "Requirement already satisfied: distributed>=2024.3.0 in /usr/local/lib/python3.12/site-packages (from coffea[dask]>=2025.7.0->atlas-schema) (2025.3.0)\n",
      "Requirement already satisfied: Jinja2>=2.9 in /usr/local/lib/python3.12/site-packages (from bokeh!=3.0.*,>=2.4.2->coffea[dask]>=2025.7.0->atlas-schema) (3.1.6)\n",
      "Requirement already satisfied: contourpy>=1.2 in /usr/local/lib/python3.12/site-packages (from bokeh!=3.0.*,>=2.4.2->coffea[dask]>=2025.7.0->atlas-schema) (1.3.3)\n",
      "Requirement already satisfied: narwhals>=1.13 in /usr/local/lib/python3.12/site-packages (from bokeh!=3.0.*,>=2.4.2->coffea[dask]>=2025.7.0->atlas-schema) (2.5.0)\n",
      "Requirement already satisfied: pillow>=7.1.0 in /usr/local/lib/python3.12/site-packages (from bokeh!=3.0.*,>=2.4.2->coffea[dask]>=2025.7.0->atlas-schema) (11.3.0)\n",
      "Requirement already satisfied: PyYAML>=3.10 in /usr/local/lib/python3.12/site-packages (from bokeh!=3.0.*,>=2.4.2->coffea[dask]>=2025.7.0->atlas-schema) (6.0.2)\n",
      "Requirement already satisfied: tornado>=6.2 in /usr/local/lib/python3.12/site-packages (from bokeh!=3.0.*,>=2.4.2->coffea[dask]>=2025.7.0->atlas-schema) (6.5.2)\n",
      "Requirement already satisfied: xyzservices>=2021.09.1 in /usr/local/lib/python3.12/site-packages (from bokeh!=3.0.*,>=2.4.2->coffea[dask]>=2025.7.0->atlas-schema) (2025.4.0)\n",
      "Requirement already satisfied: pydantic>=2 in /usr/local/lib/python3.12/site-packages (from correctionlib>=2.6.0->coffea>=2025.7.0->coffea[dask]>=2025.7.0->atlas-schema) (2.11.9)\n",
      "Requirement already satisfied: rich in /usr/local/lib/python3.12/site-packages (from correctionlib>=2.6.0->coffea>=2025.7.0->coffea[dask]>=2025.7.0->atlas-schema) (14.1.0)\n",
      "Requirement already satisfied: click>=8.1 in /usr/local/lib/python3.12/site-packages (from dask>=2024.3.0->dask[array]>=2024.3.0->coffea>=2025.7.0->coffea[dask]>=2025.7.0->atlas-schema) (8.3.0)\n",
      "Requirement already satisfied: partd>=1.4.0 in /usr/local/lib/python3.12/site-packages (from dask>=2024.3.0->dask[array]>=2024.3.0->coffea>=2025.7.0->coffea[dask]>=2025.7.0->atlas-schema) (1.4.2)\n",
      "Requirement already satisfied: toolz>=0.10.0 in /usr/local/lib/python3.12/site-packages (from dask>=2024.3.0->dask[array]>=2024.3.0->coffea>=2025.7.0->coffea[dask]>=2025.7.0->atlas-schema) (1.0.0)\n",
      "Requirement already satisfied: typing-extensions>=4.8.0 in /usr/local/lib/python3.12/site-packages (from dask-awkward>=2025.9.0->coffea>=2025.7.0->coffea[dask]>=2025.7.0->atlas-schema) (4.15.0)\n",
      "Requirement already satisfied: boost-histogram>=1.3.2 in /usr/local/lib/python3.12/site-packages (from dask-histogram>=2025.2.0->coffea>=2025.7.0->coffea[dask]>=2025.7.0->atlas-schema) (1.6.1)\n",
      "Requirement already satisfied: locket>=1.0.0 in /usr/local/lib/python3.12/site-packages (from distributed>=2024.3.0->coffea[dask]>=2025.7.0->atlas-schema) (1.0.0)\n",
      "Requirement already satisfied: msgpack>=1.0.2 in /usr/local/lib/python3.12/site-packages (from distributed>=2024.3.0->coffea[dask]>=2025.7.0->atlas-schema) (1.1.1)\n",
      "Requirement already satisfied: psutil>=5.8.0 in /usr/local/lib/python3.12/site-packages (from distributed>=2024.3.0->coffea[dask]>=2025.7.0->atlas-schema) (7.1.0)\n",
      "Requirement already satisfied: sortedcontainers>=2.0.5 in /usr/local/lib/python3.12/site-packages (from distributed>=2024.3.0->coffea[dask]>=2025.7.0->atlas-schema) (2.4.0)\n",
      "Requirement already satisfied: tblib>=1.6.0 in /usr/local/lib/python3.12/site-packages (from distributed>=2024.3.0->coffea[dask]>=2025.7.0->atlas-schema) (3.1.0)\n",
      "Requirement already satisfied: urllib3>=1.26.5 in /usr/local/lib/python3.12/site-packages (from distributed>=2024.3.0->coffea[dask]>=2025.7.0->atlas-schema) (2.5.0)\n",
      "Requirement already satisfied: zict>=3.0.0 in /usr/local/lib/python3.12/site-packages (from distributed>=2024.3.0->coffea[dask]>=2025.7.0->atlas-schema) (3.0.0)\n",
      "Requirement already satisfied: histoprint>=2.2.0 in /usr/local/lib/python3.12/site-packages (from hist>=2->coffea>=2025.7.0->coffea[dask]>=2025.7.0->atlas-schema) (2.6.0)\n",
      "Requirement already satisfied: uhi>=0.2.1 in /usr/local/lib/python3.12/site-packages (from histoprint>=2.2.0->hist>=2->coffea>=2025.7.0->coffea[dask]>=2025.7.0->atlas-schema) (1.0.0)\n",
      "Requirement already satisfied: MarkupSafe>=2.0 in /usr/local/lib/python3.12/site-packages (from Jinja2>=2.9->bokeh!=3.0.*,>=2.4.2->coffea[dask]>=2025.7.0->atlas-schema) (3.0.2)\n",
      "Requirement already satisfied: cycler>=0.10 in /usr/local/lib/python3.12/site-packages (from matplotlib>=3->coffea>=2025.7.0->coffea[dask]>=2025.7.0->atlas-schema) (0.12.1)\n",
      "Requirement already satisfied: fonttools>=4.22.0 in /usr/local/lib/python3.12/site-packages (from matplotlib>=3->coffea>=2025.7.0->coffea[dask]>=2025.7.0->atlas-schema) (4.60.0)\n",
      "Requirement already satisfied: kiwisolver>=1.3.1 in /usr/local/lib/python3.12/site-packages (from matplotlib>=3->coffea>=2025.7.0->coffea[dask]>=2025.7.0->atlas-schema) (1.4.9)\n",
      "Requirement already satisfied: pyparsing>=2.3.1 in /usr/local/lib/python3.12/site-packages (from matplotlib>=3->coffea>=2025.7.0->coffea[dask]>=2025.7.0->atlas-schema) (3.2.5)\n",
      "Requirement already satisfied: python-dateutil>=2.7 in /usr/local/lib/python3.12/site-packages (from matplotlib>=3->coffea>=2025.7.0->coffea[dask]>=2025.7.0->atlas-schema) (2.9.0.post0)\n",
      "Requirement already satisfied: mplhep-data>=0.0.4 in /usr/local/lib/python3.12/site-packages (from mplhep>=0.1.18->coffea>=2025.7.0->coffea[dask]>=2025.7.0->atlas-schema) (0.0.4)\n",
      "Requirement already satisfied: llvmlite<0.45,>=0.44.0dev0 in /usr/local/lib/python3.12/site-packages (from numba>=0.58.1->coffea>=2025.7.0->coffea[dask]>=2025.7.0->atlas-schema) (0.44.0)\n",
      "Requirement already satisfied: pytz>=2020.1 in /usr/local/lib/python3.12/site-packages (from pandas->coffea>=2025.7.0->coffea[dask]>=2025.7.0->atlas-schema) (2025.2)\n",
      "Requirement already satisfied: tzdata>=2022.7 in /usr/local/lib/python3.12/site-packages (from pandas->coffea>=2025.7.0->coffea[dask]>=2025.7.0->atlas-schema) (2025.2)\n",
      "Requirement already satisfied: attrs>=19.2 in /usr/local/lib/python3.12/site-packages (from particle>=0.25.0->atlas-schema) (25.3.0)\n",
      "Requirement already satisfied: hepunits>=2.0.0 in /usr/local/lib/python3.12/site-packages (from particle>=0.25.0->atlas-schema) (2.4.1)\n",
      "Requirement already satisfied: annotated-types>=0.6.0 in /usr/local/lib/python3.12/site-packages (from pydantic>=2->correctionlib>=2.6.0->coffea>=2025.7.0->coffea[dask]>=2025.7.0->atlas-schema) (0.7.0)\n",
      "Requirement already satisfied: pydantic-core==2.33.2 in /usr/local/lib/python3.12/site-packages (from pydantic>=2->correctionlib>=2.6.0->coffea>=2025.7.0->coffea[dask]>=2025.7.0->atlas-schema) (2.33.2)\n",
      "Requirement already satisfied: typing-inspection>=0.4.0 in /usr/local/lib/python3.12/site-packages (from pydantic>=2->correctionlib>=2.6.0->coffea>=2025.7.0->coffea[dask]>=2025.7.0->atlas-schema) (0.4.1)\n",
      "Requirement already satisfied: six>=1.5 in /usr/local/lib/python3.12/site-packages (from python-dateutil>=2.7->matplotlib>=3->coffea>=2025.7.0->coffea[dask]>=2025.7.0->atlas-schema) (1.17.0)\n",
      "Requirement already satisfied: cramjam>=2.5.0 in /usr/local/lib/python3.12/site-packages (from uproot>=5.6.0->coffea>=2025.7.0->coffea[dask]>=2025.7.0->atlas-schema) (2.11.0)\n",
      "Requirement already satisfied: xxhash in /usr/local/lib/python3.12/site-packages (from uproot>=5.6.0->coffea>=2025.7.0->coffea[dask]>=2025.7.0->atlas-schema) (3.5.0)\n",
      "Requirement already satisfied: aiohappyeyeballs>=2.5.0 in /usr/local/lib/python3.12/site-packages (from aiohttp->coffea>=2025.7.0->coffea[dask]>=2025.7.0->atlas-schema) (2.6.1)\n",
      "Requirement already satisfied: aiosignal>=1.4.0 in /usr/local/lib/python3.12/site-packages (from aiohttp->coffea>=2025.7.0->coffea[dask]>=2025.7.0->atlas-schema) (1.4.0)\n",
      "Requirement already satisfied: frozenlist>=1.1.1 in /usr/local/lib/python3.12/site-packages (from aiohttp->coffea>=2025.7.0->coffea[dask]>=2025.7.0->atlas-schema) (1.7.0)\n",
      "Requirement already satisfied: multidict<7.0,>=4.5 in /usr/local/lib/python3.12/site-packages (from aiohttp->coffea>=2025.7.0->coffea[dask]>=2025.7.0->atlas-schema) (6.6.3)\n",
      "Requirement already satisfied: propcache>=0.2.0 in /usr/local/lib/python3.12/site-packages (from aiohttp->coffea>=2025.7.0->coffea[dask]>=2025.7.0->atlas-schema) (0.3.1)\n",
      "Requirement already satisfied: yarl<2.0,>=1.17.0 in /usr/local/lib/python3.12/site-packages (from aiohttp->coffea>=2025.7.0->coffea[dask]>=2025.7.0->atlas-schema) (1.20.1)\n",
      "Requirement already satisfied: idna>=2.0 in /usr/local/lib/python3.12/site-packages (from yarl<2.0,>=1.17.0->aiohttp->coffea>=2025.7.0->coffea[dask]>=2025.7.0->atlas-schema) (3.10)\n",
      "Requirement already satisfied: charset_normalizer<4,>=2 in /usr/local/lib/python3.12/site-packages (from requests->coffea>=2025.7.0->coffea[dask]>=2025.7.0->atlas-schema) (3.4.2)\n",
      "Requirement already satisfied: certifi>=2017.4.17 in /usr/local/lib/python3.12/site-packages (from requests->coffea>=2025.7.0->coffea[dask]>=2025.7.0->atlas-schema) (2025.7.14)\n",
      "Requirement already satisfied: markdown-it-py>=2.2.0 in /usr/local/lib/python3.12/site-packages (from rich->correctionlib>=2.6.0->coffea>=2025.7.0->coffea[dask]>=2025.7.0->atlas-schema) (4.0.0)\n",
      "Requirement already satisfied: pygments<3.0.0,>=2.13.0 in /usr/local/lib/python3.12/site-packages (from rich->correctionlib>=2.6.0->coffea>=2025.7.0->coffea[dask]>=2025.7.0->atlas-schema) (2.19.2)\n",
      "Requirement already satisfied: mdurl~=0.1 in /usr/local/lib/python3.12/site-packages (from markdown-it-py>=2.2.0->rich->correctionlib>=2.6.0->coffea>=2025.7.0->coffea[dask]>=2025.7.0->atlas-schema) (0.1.2)\n"
     ]
    }
   ],
   "source": [
    "!pip install --upgrade atlas-schema"
   ]
  },
  {
   "cell_type": "code",
   "execution_count": 2,
   "id": "7ca352fb-a83a-4960-a610-6c12de008bcd",
   "metadata": {},
   "outputs": [],
   "source": [
    "import awkward as ak\n",
    "import vector\n",
    "import hist\n",
    "import matplotlib.pyplot as plt\n",
    "import mplhep\n",
    "import numpy as np\n",
    "import uproot\n",
    "\n",
    "from atlas_schema.schema import NtupleSchema\n",
    "from coffea import dataset_tools\n",
    "from coffea.nanoevents import NanoEventsFactory\n",
    "\n",
    "import atlasopenmagic\n",
    "\n",
    "vector.register_awkward()\n",
    "mplhep.style.use(mplhep.style.ATLAS1)"
   ]
  },
  {
   "cell_type": "code",
   "execution_count": 3,
   "id": "c78dc4b9-4ea5-4684-982b-c9c342866311",
   "metadata": {
    "scrolled": true
   },
   "outputs": [
    {
     "name": "stdout",
     "output_type": "stream",
     "text": [
      "Requirement already satisfied: servicex in /usr/local/lib/python3.12/site-packages (3.2.2)\n",
      "Requirement already satisfied: aioboto3>=14.1.0 in /usr/local/lib/python3.12/site-packages (from servicex) (15.2.0)\n",
      "Requirement already satisfied: filelock>=3.12.0 in /usr/local/lib/python3.12/site-packages (from servicex) (3.20.0)\n",
      "Requirement already satisfied: func-adl>=3.2.6 in /usr/local/lib/python3.12/site-packages (from servicex) (3.5.0)\n",
      "Requirement already satisfied: google-auth>=2.17 in /usr/local/lib/python3.12/site-packages (from servicex) (2.41.0)\n",
      "Requirement already satisfied: httpx-retries>=0.3.2 in /usr/local/lib/python3.12/site-packages (from servicex) (0.4.3)\n",
      "Requirement already satisfied: httpx>=0.24 in /usr/local/lib/python3.12/site-packages (from servicex) (0.28.1)\n",
      "Requirement already satisfied: make-it-sync in /usr/local/lib/python3.12/site-packages (from servicex) (2.0.0)\n",
      "Requirement already satisfied: pydantic>=2.6.0 in /usr/local/lib/python3.12/site-packages (from servicex) (2.11.9)\n",
      "Requirement already satisfied: pyyaml>=6.0 in /usr/local/lib/python3.12/site-packages (from servicex) (6.0.2)\n",
      "Requirement already satisfied: qastle>=0.17 in /usr/local/lib/python3.12/site-packages (from servicex) (0.19.0)\n",
      "Requirement already satisfied: requests>=2.31 in /usr/local/lib/python3.12/site-packages (from servicex) (2.32.4)\n",
      "Requirement already satisfied: rich>=13.0.0 in /usr/local/lib/python3.12/site-packages (from servicex) (14.1.0)\n",
      "Requirement already satisfied: ruamel-yaml>=0.18.7 in /usr/local/lib/python3.12/site-packages (from servicex) (0.18.14)\n",
      "Requirement already satisfied: tenacity>=9.0.0 in /usr/local/lib/python3.12/site-packages (from servicex) (9.1.2)\n",
      "Requirement already satisfied: tinydb>=4.7 in /usr/local/lib/python3.12/site-packages (from servicex) (4.8.2)\n",
      "Requirement already satisfied: typer>=0.12.1 in /usr/local/lib/python3.12/site-packages (from servicex) (0.19.2)\n",
      "Requirement already satisfied: types-pyyaml>=6.0 in /usr/local/lib/python3.12/site-packages (from servicex) (6.0.12.20250915)\n",
      "Requirement already satisfied: aiobotocore==2.24.2 in /usr/local/lib/python3.12/site-packages (from aiobotocore[boto3]==2.24.2->aioboto3>=14.1.0->servicex) (2.24.2)\n",
      "Requirement already satisfied: aiofiles>=23.2.1 in /usr/local/lib/python3.12/site-packages (from aioboto3>=14.1.0->servicex) (24.1.0)\n",
      "Requirement already satisfied: aiohttp<4.0.0,>=3.9.2 in /usr/local/lib/python3.12/site-packages (from aiobotocore==2.24.2->aiobotocore[boto3]==2.24.2->aioboto3>=14.1.0->servicex) (3.12.15)\n",
      "Requirement already satisfied: aioitertools<1.0.0,>=0.5.1 in /usr/local/lib/python3.12/site-packages (from aiobotocore==2.24.2->aiobotocore[boto3]==2.24.2->aioboto3>=14.1.0->servicex) (0.12.0)\n",
      "Requirement already satisfied: botocore<1.40.19,>=1.40.15 in /usr/local/lib/python3.12/site-packages (from aiobotocore==2.24.2->aiobotocore[boto3]==2.24.2->aioboto3>=14.1.0->servicex) (1.40.18)\n",
      "Requirement already satisfied: python-dateutil<3.0.0,>=2.1 in /usr/local/lib/python3.12/site-packages (from aiobotocore==2.24.2->aiobotocore[boto3]==2.24.2->aioboto3>=14.1.0->servicex) (2.9.0.post0)\n",
      "Requirement already satisfied: jmespath<2.0.0,>=0.7.1 in /usr/local/lib/python3.12/site-packages (from aiobotocore==2.24.2->aiobotocore[boto3]==2.24.2->aioboto3>=14.1.0->servicex) (1.0.1)\n",
      "Requirement already satisfied: multidict<7.0.0,>=6.0.0 in /usr/local/lib/python3.12/site-packages (from aiobotocore==2.24.2->aiobotocore[boto3]==2.24.2->aioboto3>=14.1.0->servicex) (6.6.3)\n",
      "Requirement already satisfied: wrapt<2.0.0,>=1.10.10 in /usr/local/lib/python3.12/site-packages (from aiobotocore==2.24.2->aiobotocore[boto3]==2.24.2->aioboto3>=14.1.0->servicex) (1.17.3)\n",
      "Requirement already satisfied: boto3<1.40.19,>=1.40.15 in /usr/local/lib/python3.12/site-packages (from aiobotocore[boto3]==2.24.2->aioboto3>=14.1.0->servicex) (1.40.18)\n",
      "Requirement already satisfied: aiohappyeyeballs>=2.5.0 in /usr/local/lib/python3.12/site-packages (from aiohttp<4.0.0,>=3.9.2->aiobotocore==2.24.2->aiobotocore[boto3]==2.24.2->aioboto3>=14.1.0->servicex) (2.6.1)\n",
      "Requirement already satisfied: aiosignal>=1.4.0 in /usr/local/lib/python3.12/site-packages (from aiohttp<4.0.0,>=3.9.2->aiobotocore==2.24.2->aiobotocore[boto3]==2.24.2->aioboto3>=14.1.0->servicex) (1.4.0)\n",
      "Requirement already satisfied: attrs>=17.3.0 in /usr/local/lib/python3.12/site-packages (from aiohttp<4.0.0,>=3.9.2->aiobotocore==2.24.2->aiobotocore[boto3]==2.24.2->aioboto3>=14.1.0->servicex) (25.3.0)\n",
      "Requirement already satisfied: frozenlist>=1.1.1 in /usr/local/lib/python3.12/site-packages (from aiohttp<4.0.0,>=3.9.2->aiobotocore==2.24.2->aiobotocore[boto3]==2.24.2->aioboto3>=14.1.0->servicex) (1.7.0)\n",
      "Requirement already satisfied: propcache>=0.2.0 in /usr/local/lib/python3.12/site-packages (from aiohttp<4.0.0,>=3.9.2->aiobotocore==2.24.2->aiobotocore[boto3]==2.24.2->aioboto3>=14.1.0->servicex) (0.3.1)\n",
      "Requirement already satisfied: yarl<2.0,>=1.17.0 in /usr/local/lib/python3.12/site-packages (from aiohttp<4.0.0,>=3.9.2->aiobotocore==2.24.2->aiobotocore[boto3]==2.24.2->aioboto3>=14.1.0->servicex) (1.20.1)\n",
      "Requirement already satisfied: s3transfer<0.14.0,>=0.13.0 in /usr/local/lib/python3.12/site-packages (from boto3<1.40.19,>=1.40.15->aiobotocore[boto3]==2.24.2->aioboto3>=14.1.0->servicex) (0.13.1)\n",
      "Requirement already satisfied: urllib3!=2.2.0,<3,>=1.25.4 in /usr/local/lib/python3.12/site-packages (from botocore<1.40.19,>=1.40.15->aiobotocore==2.24.2->aiobotocore[boto3]==2.24.2->aioboto3>=14.1.0->servicex) (2.5.0)\n",
      "Requirement already satisfied: six>=1.5 in /usr/local/lib/python3.12/site-packages (from python-dateutil<3.0.0,>=2.1->aiobotocore==2.24.2->aiobotocore[boto3]==2.24.2->aioboto3>=14.1.0->servicex) (1.17.0)\n",
      "Requirement already satisfied: idna>=2.0 in /usr/local/lib/python3.12/site-packages (from yarl<2.0,>=1.17.0->aiohttp<4.0.0,>=3.9.2->aiobotocore==2.24.2->aiobotocore[boto3]==2.24.2->aioboto3>=14.1.0->servicex) (3.10)\n",
      "Requirement already satisfied: typing-extensions>=4.2 in /usr/local/lib/python3.12/site-packages (from aiosignal>=1.4.0->aiohttp<4.0.0,>=3.9.2->aiobotocore==2.24.2->aiobotocore[boto3]==2.24.2->aioboto3>=14.1.0->servicex) (4.15.0)\n",
      "Requirement already satisfied: cachetools<7.0,>=2.0.0 in /usr/local/lib/python3.12/site-packages (from google-auth>=2.17->servicex) (6.2.0)\n",
      "Requirement already satisfied: pyasn1-modules>=0.2.1 in /usr/local/lib/python3.12/site-packages (from google-auth>=2.17->servicex) (0.4.2)\n",
      "Requirement already satisfied: rsa<5,>=3.1.4 in /usr/local/lib/python3.12/site-packages (from google-auth>=2.17->servicex) (4.9.1)\n",
      "Requirement already satisfied: pyasn1>=0.1.3 in /usr/local/lib/python3.12/site-packages (from rsa<5,>=3.1.4->google-auth>=2.17->servicex) (0.6.1)\n",
      "Requirement already satisfied: anyio in /usr/local/lib/python3.12/site-packages (from httpx>=0.24->servicex) (4.10.0)\n",
      "Requirement already satisfied: certifi in /usr/local/lib/python3.12/site-packages (from httpx>=0.24->servicex) (2025.7.14)\n",
      "Requirement already satisfied: httpcore==1.* in /usr/local/lib/python3.12/site-packages (from httpx>=0.24->servicex) (1.0.9)\n",
      "Requirement already satisfied: h11>=0.16 in /usr/local/lib/python3.12/site-packages (from httpcore==1.*->httpx>=0.24->servicex) (0.16.0)\n",
      "Requirement already satisfied: annotated-types>=0.6.0 in /usr/local/lib/python3.12/site-packages (from pydantic>=2.6.0->servicex) (0.7.0)\n",
      "Requirement already satisfied: pydantic-core==2.33.2 in /usr/local/lib/python3.12/site-packages (from pydantic>=2.6.0->servicex) (2.33.2)\n",
      "Requirement already satisfied: typing-inspection>=0.4.0 in /usr/local/lib/python3.12/site-packages (from pydantic>=2.6.0->servicex) (0.4.1)\n",
      "Requirement already satisfied: lark in /usr/local/lib/python3.12/site-packages (from qastle>=0.17->servicex) (1.2.2)\n",
      "Requirement already satisfied: charset_normalizer<4,>=2 in /usr/local/lib/python3.12/site-packages (from requests>=2.31->servicex) (3.4.2)\n",
      "Requirement already satisfied: markdown-it-py>=2.2.0 in /usr/local/lib/python3.12/site-packages (from rich>=13.0.0->servicex) (4.0.0)\n",
      "Requirement already satisfied: pygments<3.0.0,>=2.13.0 in /usr/local/lib/python3.12/site-packages (from rich>=13.0.0->servicex) (2.19.2)\n",
      "Requirement already satisfied: mdurl~=0.1 in /usr/local/lib/python3.12/site-packages (from markdown-it-py>=2.2.0->rich>=13.0.0->servicex) (0.1.2)\n",
      "Requirement already satisfied: ruamel.yaml.clib>=0.2.7 in /usr/local/lib/python3.12/site-packages (from ruamel-yaml>=0.18.7->servicex) (0.2.8)\n",
      "Requirement already satisfied: click>=8.0.0 in /usr/local/lib/python3.12/site-packages (from typer>=0.12.1->servicex) (8.3.0)\n",
      "Requirement already satisfied: shellingham>=1.3.0 in /usr/local/lib/python3.12/site-packages (from typer>=0.12.1->servicex) (1.5.4)\n",
      "Requirement already satisfied: sniffio>=1.1 in /usr/local/lib/python3.12/site-packages (from anyio->httpx>=0.24->servicex) (1.3.1)\n"
     ]
    }
   ],
   "source": [
    "!pip install servicex\n",
    "from servicex import dataset, query, deliver"
   ]
  },
  {
   "cell_type": "markdown",
   "id": "60487ca2-53ad-4ce5-95e6-2c0892f55ea7",
   "metadata": {},
   "source": [
    "## Getting the data \n",
    " ####    Opendata on local file system for this mini-demo "
   ]
  },
  {
   "cell_type": "code",
   "execution_count": 17,
   "id": "46dc4f8c-b13a-446c-bc10-d6b0d25507ff",
   "metadata": {},
   "outputs": [],
   "source": [
    "fileset = {\n",
    "    \"Zprimett\": {\n",
    "        \"files\": {\"/tmp/38191516._000001.root\": \"reco\"},\n",
    "        \"metadata\": {\"meta\": 0}\n",
    "    },\n",
    "    \"ttbar\": {\n",
    "        \"files\": {\n",
    "            \"/tmp/37620644._000013.root\": \"reco\"},\n",
    "        \"metadata\": {\"meta\": 0}\n",
    "    }\n",
    "}"
   ]
  },
  {
   "cell_type": "markdown",
   "id": "f0794132-c4a6-45bf-82f9-edf2d93c8835",
   "metadata": {},
   "source": [
    "#### Ultimately, we will make use of ServiceX\n",
    "- Fetch centrally produced data (ntuple) with Rucio\n",
    "- Apply selection cuts\n",
    "- Optional:\n",
    "    - run TopCPToolKit in the backend\n",
    "        - Produce ntuples from Physlite \n",
    "        - amount of allowed systematic computing TBD\n",
    "\n",
    "Interface example:"
   ]
  },
  {
   "cell_type": "code",
   "execution_count": 18,
   "id": "692bf7ee-06fa-4433-8471-c4c87fd7ab69",
   "metadata": {},
   "outputs": [
    {
     "data": {
      "application/vnd.jupyter.widget-view+json": {
       "model_id": "ef0dc7b8415c4170b8dee6765b27ece6",
       "version_major": 2,
       "version_minor": 0
      },
      "text/plain": [
       "Output()"
      ]
     },
     "metadata": {},
     "output_type": "display_data"
    },
    {
     "data": {
      "text/html": [
       "<pre style=\"white-space:pre;overflow-x:auto;line-height:normal;font-family:Menlo,'DejaVu Sans Mono',consolas,'Courier New',monospace\"></pre>\n"
      ],
      "text/plain": []
     },
     "metadata": {},
     "output_type": "display_data"
    }
   ],
   "source": [
    "#1) Build dataset \n",
    "rucio_did=\"user.acordeir:nominal_trig_overlap_obj_dump_sys_zprime3k.root\"\n",
    "ds=dataset.Rucio(rucio_did)\n",
    "\n",
    "#2) Write transformation\n",
    "ds_query = query.UprootRaw(\n",
    "    [\n",
    "        {\n",
    "            \"treename\": \"reco\",\n",
    "            \"filter_name\": [\"jet_pt*\", \"el_pt*\"], \n",
    "            \"cut\": \"num(el_pt_NOSYS)>0\",\n",
    "        }\n",
    "    ]\n",
    ")\n",
    "\n",
    "#3) Write deliver config\n",
    "spec = {\n",
    "    \"Sample\": [{\"Name\": \"from_rucio\", \"Dataset\": ds, \"Query\": ds_query}],\n",
    "}\n",
    "\n",
    "#4) Get the data \n",
    "delivered_file = deliver(spec, ignore_local_cache=True)\n",
    "\n",
    "#fileset[\"rucio_signal\"]={\n",
    "#    \"files\": {delivered_file[\"from_rucio\"][0]: \"servicex\"},\n",
    "#    \"metadata\": {\"meta\": 0}\n",
    "#}"
   ]
  },
  {
   "cell_type": "markdown",
   "id": "55f64343-41f6-4d24-acce-4469832b6b22",
   "metadata": {},
   "source": [
    "## NanoEventsFactory\n",
    " - Lazy loading with virtual arrays \n",
    " - Ntuple ATLAS schema for tracking systematic uncertainty branches"
   ]
  },
  {
   "cell_type": "code",
   "execution_count": 19,
   "id": "7f6a6c2a-91a1-4c4c-8c56-5b80c3a71438",
   "metadata": {},
   "outputs": [
    {
     "name": "stderr",
     "output_type": "stream",
     "text": [
      "/usr/local/lib/python3.12/site-packages/atlas_schema/schema.py:175: RuntimeWarning: Missing event_ids : ['dataTakingYear', 'lumiBlock', 'mcEventWeights']\n",
      "  self._build_collections(self._form[\"fields\"], self._form[\"contents\"])\n",
      "/usr/local/lib/python3.12/site-packages/atlas_schema/schema.py:175: RuntimeWarning: I found a collection with no defined mixin: 'globalTriggerMatch'. I will assume behavior: 'Systematic'. To suppress this warning next time, please define mixins for your custom collections. [mixin-undefined]\n",
      "  self._build_collections(self._form[\"fields\"], self._form[\"contents\"])\n",
      "/usr/local/lib/python3.12/site-packages/atlas_schema/schema.py:175: RuntimeWarning: I found a collection with no defined mixin: 'globalTriggerEffSF'. I will assume behavior: 'NanoCollection'. To suppress this warning next time, please define mixins for your custom collections. [mixin-undefined]\n",
      "  self._build_collections(self._form[\"fields\"], self._form[\"contents\"])\n"
     ]
    }
   ],
   "source": [
    "events = NanoEventsFactory.from_root(fileset[\"Zprimett\"][\"files\"], mode=\"virtual\", schemaclass=NtupleSchema).events()"
   ]
  },
  {
   "cell_type": "markdown",
   "id": "c4e969cd-9363-49c1-b5ae-429d127da328",
   "metadata": {},
   "source": [
    "#### ATLAS systematic handling has never been so easy!"
   ]
  },
  {
   "cell_type": "code",
   "execution_count": 20,
   "id": "ebac83a0-26c0-4a61-bd7a-7e28af9d6261",
   "metadata": {},
   "outputs": [
    {
     "data": {
      "text/plain": [
       "['NOSYS', 'EG_RESOLUTION_AF3__1down', 'EG_RESOLUTION_AF3__1up']"
      ]
     },
     "execution_count": 20,
     "metadata": {},
     "output_type": "execute_result"
    }
   ],
   "source": [
    "#access list of systematic branches\n",
    "events.systematic_names[0:3]"
   ]
  },
  {
   "cell_type": "code",
   "execution_count": 21,
   "id": "219c50a6-7d11-4977-b269-ed71b8ba54d4",
   "metadata": {},
   "outputs": [
    {
     "data": {
      "text/plain": [
       "'Ntuple contains 313 systematics'"
      ]
     },
     "execution_count": 21,
     "metadata": {},
     "output_type": "execute_result"
    }
   ],
   "source": [
    "f\"Ntuple contains {len(events.systematic_names)} systematics\""
   ]
  },
  {
   "cell_type": "markdown",
   "id": "01f5bb4c-2a98-428b-ae75-2037eae70c56",
   "metadata": {},
   "source": [
    "### Easily access specific variations and evaluate them"
   ]
  },
  {
   "cell_type": "code",
   "execution_count": 22,
   "id": "280e5072-4397-4aef-b291-e9d0727836d2",
   "metadata": {},
   "outputs": [],
   "source": [
    "jer_variations=[s for s in events.systematic_names if \"JER\" in s]"
   ]
  },
  {
   "cell_type": "code",
   "execution_count": 23,
   "id": "09703645-ccb3-485b-8465-1ee84fd97219",
   "metadata": {},
   "outputs": [
    {
     "data": {
      "text/plain": [
       "Text(0, 1, 'Entries')"
      ]
     },
     "execution_count": 23,
     "metadata": {},
     "output_type": "execute_result"
    },
    {
     "data": {
      "image/png": "[encoded data removed]",
      "text/plain": [
       "<Figure size 800x600 with 1 Axes>"
      ]
     },
     "metadata": {},
     "output_type": "display_data"
    }
   ],
   "source": [
    "h = hist.new.Regular(30, 50, 1400, label=\"Leading jet $p_T$ (GeV)\").StrCat([], name=\"variation\", growth=True).Double()\n",
    "\n",
    "for variation in [\"NOSYS\"] + jer_variations[0:4]:\n",
    "    event_view = events[variation]\n",
    "    h.fill(event_view.jet.pt[:, 0] / 1_000, variation=variation)\n",
    "\n",
    "\n",
    "fig, ax = plt.subplots()\n",
    "for variation in h.axes[1]:\n",
    "    h[:, variation].plot(histtype=\"step\", label=variation, ax=ax)\n",
    "    \n",
    "ax.legend(fontsize=\"x-small\", loc=1)\n",
    "ax.set_ylabel(\"Entries\")"
   ]
  },
  {
   "cell_type": "markdown",
   "id": "c11c83d3-c03a-41d2-8e25-bbec16f8c50f",
   "metadata": {},
   "source": [
    "## Coffea processor approach \n",
    "#### Distributed workers in the AF "
   ]
  },
  {
   "cell_type": "code",
   "execution_count": 24,
   "id": "62466d44-98a1-4551-b28e-729f1e473a31",
   "metadata": {},
   "outputs": [],
   "source": [
    "from dask.distributed import Client, PipInstall\n",
    "\n",
    "client = Client(\"tls://localhost:8786\")\n",
    "\n",
    "plugin = PipInstall(packages=[\"atlas_schema\", \"atlasopenmagic\"], pip_options=[\"--upgrade\"])\n",
    "client.register_plugin(plugin)"
   ]
  },
  {
   "cell_type": "markdown",
   "id": "ca5beb41-7791-45fa-b08c-8759eb5931cb",
   "metadata": {},
   "source": [
    "#### Fill histograms and apply xsec normalisation for nominal + variations"
   ]
  },
  {
   "cell_type": "code",
   "execution_count": 25,
   "id": "7d6d782b-4b31-40cb-9d68-7e83c5b4d8d5",
   "metadata": {
    "scrolled": true
   },
   "outputs": [],
   "source": [
    "from coffea import processor\n",
    "\n",
    "import atlasopenmagic\n",
    "\n",
    "def get_xsec_norm(dsid):\n",
    "    # not including normalization by sum of weights (that one depends on the number of files processed)\n",
    "    lumi = 36646.74 # / pb\n",
    "    meta = atlasopenmagic.get_metadata(dsid)\n",
    "    return lumi * meta[\"cross_section_pb\"] * meta[\"kFactor\"] * meta[\"genFiltEff\"]\n",
    "\n",
    "\n",
    "class Analysis(processor.ProcessorABC):\n",
    "    def __init__(self):\n",
    "        self.h = hist.new.Regular(12, 0, 300, label=\"leading jet $p_T$\").\\\n",
    "            StrCat([], name=\"dsid\", growth=True).StrCat([], name=\"variation\", growth=True).\\\n",
    "            Weight()\n",
    "\n",
    "    def process(self, events):\n",
    "        f = uproot.open(events.metadata[\"filename\"])\n",
    "        sim_type, mc_campaign, dsid, etag = f[\"metadata\"].axes[0]\n",
    "        sumw = float(f[f\"CutBookkeeper_{dsid}_284500_NOSYS\"].values()[1])  # initial sum of weights\n",
    "        systematics_from_hist = list(f[\"listOfSystematics\"].axes[0])\n",
    "        list_of_variations =  events.systematic_names\n",
    "        # ensure systematics in schema and in histogram match\n",
    "        assert sorted(systematics_from_hist) == sorted(list_of_variations)  \n",
    "\n",
    "        # run over subset of systematics\n",
    "        for variation in [\"NOSYS\"] + [sys for sys in events.systematic_names if sys.startswith(\"JET_JER_EffectiveNP_1_\")]:\n",
    "            print(variation)\n",
    "            event_view = events[variation]\n",
    "            self.h.fill(event_view.jet.pt[:, 0] / 1_000, dsid=dsid, variation=variation, weight=event_view.weight.mc)\n",
    "        return {\n",
    "            \"hist\": self.h,\n",
    "            \"meta\": {\n",
    "                \"sumw\": {dsid: {(events.metadata[\"fileuuid\"], sumw)}}}  # sumw in set to avoid summing\n",
    "        }  \n",
    "\n",
    "    def postprocess(self, accumulator):\n",
    "        # normalize histograms\n",
    "        # https://topcptoolkit.docs.cern.ch/latest/starting/running_local/#sum-of-weights\n",
    "        for dsid in accumulator[\"hist\"].axes[1]:\n",
    "            norm = get_xsec_norm(dsid) / sum([sumw for uuid, sumw in accumulator[\"meta\"][\"sumw\"][dsid]])\n",
    "            accumulator[\"hist\"][:, dsid, :] = np.stack([accumulator[\"hist\"][:, dsid, :].values()*norm, accumulator[\"hist\"][:, dsid, :].variances()*norm**2], axis=-1)\n"
   ]
  },
  {
   "cell_type": "markdown",
   "id": "c4508ac4-0c36-426e-9c48-c44f9db8cf8a",
   "metadata": {},
   "source": [
    "#### Configure: \n",
    "- data chunk size\n",
    "- processor executor type\n",
    "- schema with systematic handles"
   ]
  },
  {
   "cell_type": "code",
   "execution_count": 26,
   "id": "9157fb6e-1604-483f-99e6-af515803bd88",
   "metadata": {},
   "outputs": [
    {
     "data": {
      "application/vnd.jupyter.widget-view+json": {
       "model_id": "31e05b24c18b44daa7123dc5c02b213a",
       "version_major": 2,
       "version_minor": 0
      },
      "text/plain": [
       "Output()"
      ]
     },
     "metadata": {},
     "output_type": "display_data"
    },
    {
     "data": {
      "text/html": [
       "<pre style=\"white-space:pre;overflow-x:auto;line-height:normal;font-family:Menlo,'DejaVu Sans Mono',consolas,'Courier New',monospace\">/usr/local/lib/python3.12/site-packages/atlas_schema/schema.py:175: RuntimeWarning: Missing event_ids : \n",
       "['dataTakingYear', 'lumiBlock', 'mcEventWeights']\n",
       "  self._build_collections(self._form[\"fields\"], self._form[\"contents\"])\n",
       "</pre>\n"
      ],
      "text/plain": [
       "/usr/local/lib/python3.12/site-packages/atlas_schema/schema.py:175: RuntimeWarning: Missing event_ids : \n",
       "['dataTakingYear', 'lumiBlock', 'mcEventWeights']\n",
       "  self._build_collections(self._form[\"fields\"], self._form[\"contents\"])\n"
      ]
     },
     "metadata": {},
     "output_type": "display_data"
    },
    {
     "data": {
      "text/html": [
       "<pre style=\"white-space:pre;overflow-x:auto;line-height:normal;font-family:Menlo,'DejaVu Sans Mono',consolas,'Courier New',monospace\">/usr/local/lib/python3.12/site-packages/atlas_schema/schema.py:175: RuntimeWarning: I found a collection with no \n",
       "defined mixin: 'globalTriggerMatch'. I will assume behavior: 'Systematic'. To suppress this warning next time, \n",
       "please define mixins for your custom collections. [mixin-undefined]\n",
       "  self._build_collections(self._form[\"fields\"], self._form[\"contents\"])\n",
       "</pre>\n"
      ],
      "text/plain": [
       "/usr/local/lib/python3.12/site-packages/atlas_schema/schema.py:175: RuntimeWarning: I found a collection with no \n",
       "defined mixin: 'globalTriggerMatch'. I will assume behavior: 'Systematic'. To suppress this warning next time, \n",
       "please define mixins for your custom collections. [mixin-undefined]\n",
       "  self._build_collections(self._form[\"fields\"], self._form[\"contents\"])\n"
      ]
     },
     "metadata": {},
     "output_type": "display_data"
    },
    {
     "data": {
      "text/html": [
       "<pre style=\"white-space:pre;overflow-x:auto;line-height:normal;font-family:Menlo,'DejaVu Sans Mono',consolas,'Courier New',monospace\">/usr/local/lib/python3.12/site-packages/atlas_schema/schema.py:175: RuntimeWarning: I found a collection with no \n",
       "defined mixin: 'globalTriggerEffSF'. I will assume behavior: 'NanoCollection'. To suppress this warning next time, \n",
       "please define mixins for your custom collections. [mixin-undefined]\n",
       "  self._build_collections(self._form[\"fields\"], self._form[\"contents\"])\n",
       "</pre>\n"
      ],
      "text/plain": [
       "/usr/local/lib/python3.12/site-packages/atlas_schema/schema.py:175: RuntimeWarning: I found a collection with no \n",
       "defined mixin: 'globalTriggerEffSF'. I will assume behavior: 'NanoCollection'. To suppress this warning next time, \n",
       "please define mixins for your custom collections. [mixin-undefined]\n",
       "  self._build_collections(self._form[\"fields\"], self._form[\"contents\"])\n"
      ]
     },
     "metadata": {},
     "output_type": "display_data"
    },
    {
     "data": {
      "text/html": [
       "<pre style=\"white-space:pre;overflow-x:auto;line-height:normal;font-family:Menlo,'DejaVu Sans Mono',consolas,'Courier New',monospace\">NOSYS\n",
       "</pre>\n"
      ],
      "text/plain": [
       "NOSYS\n"
      ]
     },
     "metadata": {},
     "output_type": "display_data"
    },
    {
     "data": {
      "text/html": [
       "<pre style=\"white-space:pre;overflow-x:auto;line-height:normal;font-family:Menlo,'DejaVu Sans Mono',consolas,'Courier New',monospace\">JET_JER_EffectiveNP_1_PseudoData__1down\n",
       "</pre>\n"
      ],
      "text/plain": [
       "JET_JER_EffectiveNP_1_PseudoData__1down\n"
      ]
     },
     "metadata": {},
     "output_type": "display_data"
    },
    {
     "data": {
      "text/html": [
       "<pre style=\"white-space:pre;overflow-x:auto;line-height:normal;font-family:Menlo,'DejaVu Sans Mono',consolas,'Courier New',monospace\">JET_JER_EffectiveNP_1_PseudoData__1up\n",
       "</pre>\n"
      ],
      "text/plain": [
       "JET_JER_EffectiveNP_1_PseudoData__1up\n"
      ]
     },
     "metadata": {},
     "output_type": "display_data"
    },
    {
     "data": {
      "text/html": [
       "<pre style=\"white-space:pre;overflow-x:auto;line-height:normal;font-family:Menlo,'DejaVu Sans Mono',consolas,'Courier New',monospace\">JET_JER_EffectiveNP_1__1down\n",
       "</pre>\n"
      ],
      "text/plain": [
       "JET_JER_EffectiveNP_1__1down\n"
      ]
     },
     "metadata": {},
     "output_type": "display_data"
    },
    {
     "data": {
      "text/html": [
       "<pre style=\"white-space:pre;overflow-x:auto;line-height:normal;font-family:Menlo,'DejaVu Sans Mono',consolas,'Courier New',monospace\">JET_JER_EffectiveNP_1__1up\n",
       "</pre>\n"
      ],
      "text/plain": [
       "JET_JER_EffectiveNP_1__1up\n"
      ]
     },
     "metadata": {},
     "output_type": "display_data"
    },
    {
     "data": {
      "text/html": [
       "<pre style=\"white-space:pre;overflow-x:auto;line-height:normal;font-family:Menlo,'DejaVu Sans Mono',consolas,'Courier New',monospace\">NOSYS\n",
       "</pre>\n"
      ],
      "text/plain": [
       "NOSYS\n"
      ]
     },
     "metadata": {},
     "output_type": "display_data"
    },
    {
     "data": {
      "text/html": [
       "<pre style=\"white-space:pre;overflow-x:auto;line-height:normal;font-family:Menlo,'DejaVu Sans Mono',consolas,'Courier New',monospace\">JET_JER_EffectiveNP_1_PseudoData__1down\n",
       "</pre>\n"
      ],
      "text/plain": [
       "JET_JER_EffectiveNP_1_PseudoData__1down\n"
      ]
     },
     "metadata": {},
     "output_type": "display_data"
    },
    {
     "data": {
      "text/html": [
       "<pre style=\"white-space:pre;overflow-x:auto;line-height:normal;font-family:Menlo,'DejaVu Sans Mono',consolas,'Courier New',monospace\">JET_JER_EffectiveNP_1_PseudoData__1up\n",
       "</pre>\n"
      ],
      "text/plain": [
       "JET_JER_EffectiveNP_1_PseudoData__1up\n"
      ]
     },
     "metadata": {},
     "output_type": "display_data"
    },
    {
     "data": {
      "text/html": [
       "<pre style=\"white-space:pre;overflow-x:auto;line-height:normal;font-family:Menlo,'DejaVu Sans Mono',consolas,'Courier New',monospace\">JET_JER_EffectiveNP_1__1down\n",
       "</pre>\n"
      ],
      "text/plain": [
       "JET_JER_EffectiveNP_1__1down\n"
      ]
     },
     "metadata": {},
     "output_type": "display_data"
    },
    {
     "data": {
      "text/html": [
       "<pre style=\"white-space:pre;overflow-x:auto;line-height:normal;font-family:Menlo,'DejaVu Sans Mono',consolas,'Courier New',monospace\">JET_JER_EffectiveNP_1__1up\n",
       "</pre>\n"
      ],
      "text/plain": [
       "JET_JER_EffectiveNP_1__1up\n"
      ]
     },
     "metadata": {},
     "output_type": "display_data"
    },
    {
     "data": {
      "text/html": [
       "<pre style=\"white-space:pre;overflow-x:auto;line-height:normal;font-family:Menlo,'DejaVu Sans Mono',consolas,'Courier New',monospace\"></pre>\n"
      ],
      "text/plain": []
     },
     "metadata": {},
     "output_type": "display_data"
    },
    {
     "data": {
      "text/plain": [
       "({'hist': Hist(\n",
       "    Regular(12, 0, 300, label='leading jet $p_T$'),\n",
       "    StrCategory(['410470', '301333'], growth=True, name='dsid'),\n",
       "    StrCategory(['NOSYS', 'JET_JER_EffectiveNP_1_PseudoData__1down', 'JET_JER_EffectiveNP_1_PseudoData__1up', 'JET_JER_EffectiveNP_1__1down', 'JET_JER_EffectiveNP_1__1up'], growth=True, name='variation'),\n",
       "    storage=Weight()) # Sum: WeightedSum(value=6.75018e+06, variance=7.5583e+08) (WeightedSum(value=8.49445e+06, variance=2.05141e+09) with flow),\n",
       "  'meta': {'sumw': {'410470': {('d002a250-76ef-11f0-bf34-f18ca8c0beef',\n",
       "      109523312.0)},\n",
       "    '301333': {('551e0c5c-76de-11f0-8d75-fa8ca8c0beef', 30000.0)}}}},\n",
       " {'bytesread': 3778280,\n",
       "  'columns': ['jet_select_baselineJvt_JET_JER_EffectiveNP_1__1up',\n",
       "   'jet_pt_JET_JER_EffectiveNP_1_PseudoData__1down',\n",
       "   'jet_select_baselineJvt_JET_JER_EffectiveNP_1_PseudoData__1up',\n",
       "   'jet_select_baselineJvt_JET_JER_EffectiveNP_1__1down',\n",
       "   'jet_pt_JET_JER_EffectiveNP_1_PseudoData__1up',\n",
       "   'weight_mc_NOSYS',\n",
       "   'jet_pt_NOSYS',\n",
       "   'jet_pt_JET_JER_EffectiveNP_1__1down',\n",
       "   'jet_select_baselineJvt_JET_JER_EffectiveNP_1_PseudoData__1down',\n",
       "   'jet_select_baselineJvt_NOSYS',\n",
       "   'jet_pt_JET_JER_EffectiveNP_1__1up'],\n",
       "  'entries': 14121,\n",
       "  'processtime': 0.22391891479492188,\n",
       "  'chunks': 2})"
      ]
     },
     "execution_count": 26,
     "metadata": {},
     "output_type": "execute_result"
    }
   ],
   "source": [
    "run = processor.Runner(\n",
    "    executor = processor.IterativeExecutor(),\n",
    "    schema=NtupleSchema,\n",
    "    savemetrics=True,\n",
    "    chunksize=50000\n",
    ")\n",
    "samples = run.preprocess(fileset)\n",
    "\n",
    "out, report = run(samples, processor_instance=Analysis())\n",
    "\n",
    "out, report"
   ]
  },
  {
   "cell_type": "markdown",
   "id": "edd1c9ef-a811-4cb8-a8fa-cca9bb39e4cd",
   "metadata": {},
   "source": [
    "#### Hist plotting with normalisations "
   ]
  },
  {
   "cell_type": "code",
   "execution_count": 27,
   "id": "7fc908ef-b02c-4d2b-9627-96d2279cc62a",
   "metadata": {},
   "outputs": [
    {
     "name": "stdout",
     "output_type": "stream",
     "text": [
      "1 JET_JER_EffectiveNP_1_PseudoData__1down\n",
      "2 JET_JER_EffectiveNP_1_PseudoData__1up\n",
      "3 JET_JER_EffectiveNP_1__1down\n",
      "4 JET_JER_EffectiveNP_1__1up\n"
     ]
    },
    {
     "name": "stderr",
     "output_type": "stream",
     "text": [
      "/tmp/ipykernel_1042/3906161869.py:16: RuntimeWarning: invalid value encountered in divide\n",
      "  ratio = (h[:, dsid, variation].values() / h[:, dsid, \"NOSYS\"].values())\n"
     ]
    },
    {
     "data": {
      "text/plain": [
       "(0.8, 1.2)"
      ]
     },
     "execution_count": 27,
     "metadata": {},
     "output_type": "execute_result"
    },
    {
     "data": {
      "image/png": "[encoded data removed]",
      "text/plain": [
       "<Figure size 800x600 with 2 Axes>"
      ]
     },
     "metadata": {},
     "output_type": "display_data"
    }
   ],
   "source": [
    "dsid = \"410470\"\n",
    "h = out[\"hist\"]\n",
    "\n",
    "fig, (ax1, ax2) = plt.subplots(nrows=2, height_ratios=(3, 1), constrained_layout=True, sharex=True)\n",
    "h[:, dsid, :].plot(ax=ax1, linewidth=2)\n",
    "ax1.legend()\n",
    "ax1.set_ylabel(\"count\")\n",
    "\n",
    "edges = h[:, dsid, :].axes[0].edges\n",
    "ax2.plot(edges, [1]*len(edges), color=\"black\", linestyle=\"dashed\", linewidth=1)\n",
    "for ivar, variation in enumerate(h.axes[2]):\n",
    "    if variation == \"NOSYS\":\n",
    "        continue\n",
    "    print(ivar, variation)\n",
    "    # print(h[:, dsid, variation], \n",
    "    ratio = (h[:, dsid, variation].values() / h[:, dsid, \"NOSYS\"].values())\n",
    "    ax2.stairs(ratio, edges, color=f\"C{ivar}\", linewidth=2)\n",
    "ax2.set_ylabel(\"var/nom\")\n",
    "ax2.set_ylim([0.8, 1.2])"
   ]
  },
  {
   "cell_type": "markdown",
   "id": "ef14e3e8-9586-4a44-9d1d-73eede7cce61",
   "metadata": {},
   "source": [
    "#### Save the preprocess metrics "
   ]
  },
  {
   "cell_type": "code",
   "execution_count": 28,
   "id": "9ab45090-19d4-465c-8426-cedf0d59999f",
   "metadata": {},
   "outputs": [
    {
     "data": {
      "text/plain": [
       "[WorkItem(dataset='ttbar', filename='/tmp/37620644._000013.root', treename='reco', entrystart=0, entrystop=12663, fileuuid=b'\\xd0\\x02\\xa2Pv\\xef\\x11\\xf0\\xbf4\\xf1\\x8c\\xa8\\xc0\\xbe\\xef', usermeta={'meta': 0}),\n",
       " WorkItem(dataset='Zprimett', filename='/tmp/38191516._000001.root', treename='reco', entrystart=0, entrystop=1458, fileuuid=b'U\\x1e\\x0c\\\\v\\xde\\x11\\xf0\\x8du\\xfa\\x8c\\xa8\\xc0\\xbe\\xef', usermeta={'meta': 0})]"
      ]
     },
     "execution_count": 28,
     "metadata": {},
     "output_type": "execute_result"
    }
   ],
   "source": [
    "import base64\n",
    "import dataclasses\n",
    "import json\n",
    "import coffea\n",
    "\n",
    "\n",
    "def write_samples(samples, fname):\n",
    "    # encode bytes\n",
    "    serializable = []\n",
    "    for s in samples:\n",
    "        chunk = dataclasses.asdict(s)\n",
    "        chunk[\"fileuuid\"] = base64.b64encode(chunk[\"fileuuid\"]).decode(\"ascii\")\n",
    "        serializable.append(chunk)\n",
    "    \n",
    "    with open(fname, \"w\") as f:\n",
    "        json.dump(serializable, f)\n",
    "\n",
    "\n",
    "def read_samples(fname):\n",
    "    with open(fname) as f:\n",
    "        samples = json.load(f)\n",
    "    \n",
    "    # decode bytes\n",
    "    for i in range(len(samples)):\n",
    "        samples[i][\"fileuuid\"] = base64.b64decode(samples[i][\"fileuuid\"])\n",
    "        samples[i] = coffea.processor.executor.WorkItem(**samples[i])\n",
    "\n",
    "    return samples\n",
    "\n",
    "\n",
    "samples = run.preprocess(fileset)\n",
    "write_samples(samples, \"samples.json\")\n",
    "samples = read_samples(\"samples.json\")\n",
    "\n",
    "samples\n"
   ]
  },
  {
   "cell_type": "markdown",
   "id": "93491609-bae2-4f1c-831f-e754cc9481cb",
   "metadata": {},
   "source": [
    "## Would be followed by Statistical modeling \n",
    "### Cabinatery, PyHF, TRexFitter"
   ]
  },
  {
   "cell_type": "code",
   "execution_count": null,
   "id": "47ea7326-d037-4dfa-8c95-aa7e8a324be2",
   "metadata": {},
   "outputs": [],
   "source": []
  },
  {
   "cell_type": "code",
   "execution_count": null,
   "id": "7546b3dd-7d3d-459c-9a7f-bbf2961e71ff",
   "metadata": {},
   "outputs": [],
   "source": []
  }
 ],
 "metadata": {
  "kernelspec": {
   "display_name": "Python 3 (ipykernel)",
   "language": "python",
   "name": "python3"
  },
  "language_info": {
   "codemirror_mode": {
    "name": "ipython",
    "version": 3
   },
   "file_extension": ".py",
   "mimetype": "text/x-python",
   "name": "python",
   "nbconvert_exporter": "python",
   "pygments_lexer": "ipython3",
   "version": "3.12.11"
  }
 },
 "nbformat": 4,
 "nbformat_minor": 5
}

{
 "cells": [
  {
   "cell_type": "code",
   "execution_count": 1,
   "id": "7ca352fb-a83a-4960-a610-6c12de008bcd",
   "metadata": {},
   "outputs": [],
   "source": [
    "import awkward as ak\n",
    "import vector\n",
    "import hist\n",
    "import matplotlib.pyplot as plt\n",
    "import mplhep\n",
    "import numpy as np\n",
    "import uproot\n",
    "\n",
    "from atlas_schema.schema import NtupleSchema\n",
    "from coffea import dataset_tools\n",
    "from coffea.nanoevents import NanoEventsFactory\n",
    "\n",
    "vector.register_awkward()\n",
    "mplhep.style.use(mplhep.style.ATLAS1)"
   ]
  },
  {
   "cell_type": "code",
   "execution_count": 2,
   "id": "c78dc4b9-4ea5-4684-982b-c9c342866311",
   "metadata": {
    "scrolled": true
   },
   "outputs": [
    {
     "name": "stdout",
     "output_type": "stream",
     "text": [
      "Collecting servicex\n",
      "  Using cached servicex-3.2.2-py3-none-any.whl.metadata (5.5 kB)\n",
      "Collecting aioboto3>=14.1.0 (from servicex)\n",
      "  Using cached aioboto3-15.2.0-py3-none-any.whl.metadata (8.9 kB)\n",
      "Collecting filelock>=3.12.0 (from servicex)\n",
      "  Using cached filelock-3.19.1-py3-none-any.whl.metadata (2.1 kB)\n",
      "Collecting func-adl>=3.2.6 (from servicex)\n",
      "  Using cached func_adl-3.5.0-py3-none-any.whl.metadata (12 kB)\n",
      "Requirement already satisfied: google-auth>=2.17 in /usr/local/lib/python3.12/site-packages (from servicex) (2.41.0)\n",
      "Collecting httpx-retries>=0.3.2 (from servicex)\n",
      "  Using cached httpx_retries-0.4.3-py3-none-any.whl.metadata (4.1 kB)\n",
      "Requirement already satisfied: httpx>=0.24 in /usr/local/lib/python3.12/site-packages (from servicex) (0.28.1)\n",
      "Collecting make-it-sync (from servicex)\n",
      "  Using cached make_it_sync-2.0.0-py3-none-any.whl.metadata (3.8 kB)\n",
      "Requirement already satisfied: pydantic>=2.6.0 in /usr/local/lib/python3.12/site-packages (from servicex) (2.11.9)\n",
      "Requirement already satisfied: pyyaml>=6.0 in /usr/local/lib/python3.12/site-packages (from servicex) (6.0.2)\n",
      "Collecting qastle>=0.17 (from servicex)\n",
      "  Using cached qastle-0.19.0-py3-none-any.whl.metadata (8.1 kB)\n",
      "Requirement already satisfied: requests>=2.31 in /usr/local/lib/python3.12/site-packages (from servicex) (2.32.4)\n",
      "Requirement already satisfied: rich>=13.0.0 in /usr/local/lib/python3.12/site-packages (from servicex) (14.1.0)\n",
      "Requirement already satisfied: ruamel-yaml>=0.18.7 in /usr/local/lib/python3.12/site-packages (from servicex) (0.18.14)\n",
      "Collecting tenacity>=9.0.0 (from servicex)\n",
      "  Using cached tenacity-9.1.2-py3-none-any.whl.metadata (1.2 kB)\n",
      "Collecting tinydb>=4.7 (from servicex)\n",
      "  Using cached tinydb-4.8.2-py3-none-any.whl.metadata (6.7 kB)\n",
      "Collecting typer>=0.12.1 (from servicex)\n",
      "  Using cached typer-0.19.2-py3-none-any.whl.metadata (16 kB)\n",
      "Collecting types-pyyaml>=6.0 (from servicex)\n",
      "  Using cached types_pyyaml-6.0.12.20250915-py3-none-any.whl.metadata (1.7 kB)\n",
      "Requirement already satisfied: aiobotocore==2.24.2 in /usr/local/lib/python3.12/site-packages (from aiobotocore[boto3]==2.24.2->aioboto3>=14.1.0->servicex) (2.24.2)\n",
      "Collecting aiofiles>=23.2.1 (from aioboto3>=14.1.0->servicex)\n",
      "  Using cached aiofiles-24.1.0-py3-none-any.whl.metadata (10 kB)\n",
      "Requirement already satisfied: aiohttp<4.0.0,>=3.9.2 in /usr/local/lib/python3.12/site-packages (from aiobotocore==2.24.2->aiobotocore[boto3]==2.24.2->aioboto3>=14.1.0->servicex) (3.12.15)\n",
      "Requirement already satisfied: aioitertools<1.0.0,>=0.5.1 in /usr/local/lib/python3.12/site-packages (from aiobotocore==2.24.2->aiobotocore[boto3]==2.24.2->aioboto3>=14.1.0->servicex) (0.12.0)\n",
      "Requirement already satisfied: botocore<1.40.19,>=1.40.15 in /usr/local/lib/python3.12/site-packages (from aiobotocore==2.24.2->aiobotocore[boto3]==2.24.2->aioboto3>=14.1.0->servicex) (1.40.18)\n",
      "Requirement already satisfied: python-dateutil<3.0.0,>=2.1 in /usr/local/lib/python3.12/site-packages (from aiobotocore==2.24.2->aiobotocore[boto3]==2.24.2->aioboto3>=14.1.0->servicex) (2.9.0.post0)\n",
      "Requirement already satisfied: jmespath<2.0.0,>=0.7.1 in /usr/local/lib/python3.12/site-packages (from aiobotocore==2.24.2->aiobotocore[boto3]==2.24.2->aioboto3>=14.1.0->servicex) (1.0.1)\n",
      "Requirement already satisfied: multidict<7.0.0,>=6.0.0 in /usr/local/lib/python3.12/site-packages (from aiobotocore==2.24.2->aiobotocore[boto3]==2.24.2->aioboto3>=14.1.0->servicex) (6.6.3)\n",
      "Requirement already satisfied: wrapt<2.0.0,>=1.10.10 in /usr/local/lib/python3.12/site-packages (from aiobotocore==2.24.2->aiobotocore[boto3]==2.24.2->aioboto3>=14.1.0->servicex) (1.17.3)\n",
      "Collecting boto3<1.40.19,>=1.40.15 (from aiobotocore[boto3]==2.24.2->aioboto3>=14.1.0->servicex)\n",
      "  Using cached boto3-1.40.18-py3-none-any.whl.metadata (6.7 kB)\n",
      "Requirement already satisfied: aiohappyeyeballs>=2.5.0 in /usr/local/lib/python3.12/site-packages (from aiohttp<4.0.0,>=3.9.2->aiobotocore==2.24.2->aiobotocore[boto3]==2.24.2->aioboto3>=14.1.0->servicex) (2.6.1)\n",
      "Requirement already satisfied: aiosignal>=1.4.0 in /usr/local/lib/python3.12/site-packages (from aiohttp<4.0.0,>=3.9.2->aiobotocore==2.24.2->aiobotocore[boto3]==2.24.2->aioboto3>=14.1.0->servicex) (1.4.0)\n",
      "Requirement already satisfied: attrs>=17.3.0 in /usr/local/lib/python3.12/site-packages (from aiohttp<4.0.0,>=3.9.2->aiobotocore==2.24.2->aiobotocore[boto3]==2.24.2->aioboto3>=14.1.0->servicex) (25.3.0)\n",
      "Requirement already satisfied: frozenlist>=1.1.1 in /usr/local/lib/python3.12/site-packages (from aiohttp<4.0.0,>=3.9.2->aiobotocore==2.24.2->aiobotocore[boto3]==2.24.2->aioboto3>=14.1.0->servicex) (1.7.0)\n",
      "Requirement already satisfied: propcache>=0.2.0 in /usr/local/lib/python3.12/site-packages (from aiohttp<4.0.0,>=3.9.2->aiobotocore==2.24.2->aiobotocore[boto3]==2.24.2->aioboto3>=14.1.0->servicex) (0.3.1)\n",
      "Requirement already satisfied: yarl<2.0,>=1.17.0 in /usr/local/lib/python3.12/site-packages (from aiohttp<4.0.0,>=3.9.2->aiobotocore==2.24.2->aiobotocore[boto3]==2.24.2->aioboto3>=14.1.0->servicex) (1.20.1)\n",
      "Collecting s3transfer<0.14.0,>=0.13.0 (from boto3<1.40.19,>=1.40.15->aiobotocore[boto3]==2.24.2->aioboto3>=14.1.0->servicex)\n",
      "  Using cached s3transfer-0.13.1-py3-none-any.whl.metadata (1.7 kB)\n",
      "Requirement already satisfied: urllib3!=2.2.0,<3,>=1.25.4 in /usr/local/lib/python3.12/site-packages (from botocore<1.40.19,>=1.40.15->aiobotocore==2.24.2->aiobotocore[boto3]==2.24.2->aioboto3>=14.1.0->servicex) (2.5.0)\n",
      "Requirement already satisfied: six>=1.5 in /usr/local/lib/python3.12/site-packages (from python-dateutil<3.0.0,>=2.1->aiobotocore==2.24.2->aiobotocore[boto3]==2.24.2->aioboto3>=14.1.0->servicex) (1.17.0)\n",
      "Requirement already satisfied: idna>=2.0 in /usr/local/lib/python3.12/site-packages (from yarl<2.0,>=1.17.0->aiohttp<4.0.0,>=3.9.2->aiobotocore==2.24.2->aiobotocore[boto3]==2.24.2->aioboto3>=14.1.0->servicex) (3.10)\n",
      "Requirement already satisfied: typing-extensions>=4.2 in /usr/local/lib/python3.12/site-packages (from aiosignal>=1.4.0->aiohttp<4.0.0,>=3.9.2->aiobotocore==2.24.2->aiobotocore[boto3]==2.24.2->aioboto3>=14.1.0->servicex) (4.15.0)\n",
      "Requirement already satisfied: cachetools<7.0,>=2.0.0 in /usr/local/lib/python3.12/site-packages (from google-auth>=2.17->servicex) (6.2.0)\n",
      "Requirement already satisfied: pyasn1-modules>=0.2.1 in /usr/local/lib/python3.12/site-packages (from google-auth>=2.17->servicex) (0.4.2)\n",
      "Requirement already satisfied: rsa<5,>=3.1.4 in /usr/local/lib/python3.12/site-packages (from google-auth>=2.17->servicex) (4.9.1)\n",
      "Requirement already satisfied: pyasn1>=0.1.3 in /usr/local/lib/python3.12/site-packages (from rsa<5,>=3.1.4->google-auth>=2.17->servicex) (0.6.1)\n",
      "Requirement already satisfied: anyio in /usr/local/lib/python3.12/site-packages (from httpx>=0.24->servicex) (4.10.0)\n",
      "Requirement already satisfied: certifi in /usr/local/lib/python3.12/site-packages (from httpx>=0.24->servicex) (2025.7.14)\n",
      "Requirement already satisfied: httpcore==1.* in /usr/local/lib/python3.12/site-packages (from httpx>=0.24->servicex) (1.0.9)\n",
      "Requirement already satisfied: h11>=0.16 in /usr/local/lib/python3.12/site-packages (from httpcore==1.*->httpx>=0.24->servicex) (0.16.0)\n",
      "Requirement already satisfied: annotated-types>=0.6.0 in /usr/local/lib/python3.12/site-packages (from pydantic>=2.6.0->servicex) (0.7.0)\n",
      "Requirement already satisfied: pydantic-core==2.33.2 in /usr/local/lib/python3.12/site-packages (from pydantic>=2.6.0->servicex) (2.33.2)\n",
      "Requirement already satisfied: typing-inspection>=0.4.0 in /usr/local/lib/python3.12/site-packages (from pydantic>=2.6.0->servicex) (0.4.1)\n",
      "Requirement already satisfied: lark in /usr/local/lib/python3.12/site-packages (from qastle>=0.17->servicex) (1.2.2)\n",
      "Requirement already satisfied: charset_normalizer<4,>=2 in /usr/local/lib/python3.12/site-packages (from requests>=2.31->servicex) (3.4.2)\n",
      "Requirement already satisfied: markdown-it-py>=2.2.0 in /usr/local/lib/python3.12/site-packages (from rich>=13.0.0->servicex) (4.0.0)\n",
      "Requirement already satisfied: pygments<3.0.0,>=2.13.0 in /usr/local/lib/python3.12/site-packages (from rich>=13.0.0->servicex) (2.19.2)\n",
      "Requirement already satisfied: mdurl~=0.1 in /usr/local/lib/python3.12/site-packages (from markdown-it-py>=2.2.0->rich>=13.0.0->servicex) (0.1.2)\n",
      "Requirement already satisfied: ruamel.yaml.clib>=0.2.7 in /usr/local/lib/python3.12/site-packages (from ruamel-yaml>=0.18.7->servicex) (0.2.8)\n",
      "Requirement already satisfied: click>=8.0.0 in /usr/local/lib/python3.12/site-packages (from typer>=0.12.1->servicex) (8.3.0)\n",
      "Collecting shellingham>=1.3.0 (from typer>=0.12.1->servicex)\n",
      "  Using cached shellingham-1.5.4-py2.py3-none-any.whl.metadata (3.5 kB)\n",
      "Requirement already satisfied: sniffio>=1.1 in /usr/local/lib/python3.12/site-packages (from anyio->httpx>=0.24->servicex) (1.3.1)\n",
      "Using cached servicex-3.2.2-py3-none-any.whl (70 kB)\n",
      "Using cached aioboto3-15.2.0-py3-none-any.whl (35 kB)\n",
      "Using cached boto3-1.40.18-py3-none-any.whl (140 kB)\n",
      "Using cached s3transfer-0.13.1-py3-none-any.whl (85 kB)\n",
      "Using cached aiofiles-24.1.0-py3-none-any.whl (15 kB)\n",
      "Using cached filelock-3.19.1-py3-none-any.whl (15 kB)\n",
      "Using cached func_adl-3.5.0-py3-none-any.whl (50 kB)\n",
      "Using cached httpx_retries-0.4.3-py3-none-any.whl (8.3 kB)\n",
      "Using cached qastle-0.19.0-py3-none-any.whl (12 kB)\n",
      "Using cached tenacity-9.1.2-py3-none-any.whl (28 kB)\n",
      "Using cached tinydb-4.8.2-py3-none-any.whl (24 kB)\n",
      "Using cached typer-0.19.2-py3-none-any.whl (46 kB)\n",
      "Using cached shellingham-1.5.4-py2.py3-none-any.whl (9.8 kB)\n",
      "Using cached types_pyyaml-6.0.12.20250915-py3-none-any.whl (20 kB)\n",
      "Using cached make_it_sync-2.0.0-py3-none-any.whl (4.3 kB)\n",
      "Installing collected packages: types-pyyaml, tinydb, tenacity, shellingham, qastle, make-it-sync, filelock, aiofiles, func-adl, typer, s3transfer, httpx-retries, boto3, aioboto3, servicex\n",
      "\u001b[2K   \u001b[90m━━━━━━━━━━━━━━━━━━━━━━━━━━━━━━━━━━━━━━━━\u001b[0m \u001b[32m15/15\u001b[0m [servicex]/15\u001b[0m [s3transfer]\n",
      "\u001b[1A\u001b[2KSuccessfully installed aioboto3-15.2.0 aiofiles-24.1.0 boto3-1.40.18 filelock-3.19.1 func-adl-3.5.0 httpx-retries-0.4.3 make-it-sync-2.0.0 qastle-0.19.0 s3transfer-0.13.1 servicex-3.2.2 shellingham-1.5.4 tenacity-9.1.2 tinydb-4.8.2 typer-0.19.2 types-pyyaml-6.0.12.20250915\n"
     ]
    }
   ],
   "source": [
    "!pip install servicex\n",
    "from servicex import dataset, query, deliver"
   ]
  },
  {
   "cell_type": "markdown",
   "id": "60487ca2-53ad-4ce5-95e6-2c0892f55ea7",
   "metadata": {},
   "source": [
    "## Getting the data \n",
    " ####    Opendata on local file system for this mini-demo "
   ]
  },
  {
   "cell_type": "code",
   "execution_count": 3,
   "id": "46dc4f8c-b13a-446c-bc10-d6b0d25507ff",
   "metadata": {},
   "outputs": [],
   "source": [
    "fileset = {\n",
    "    \"Zprimett\": {\n",
    "        \"files\": {\"/data/alheld/integration-challenge/301333/38191516._000001.root\": \"reco\"},\n",
    "        \"metadata\": {\"meta\": 0}\n",
    "    },\n",
    "    \"ttbar\": {\n",
    "        \"files\": {\n",
    "            \"/data/alheld/integration-challenge/410470/37620644._000012.root\": \"reco\",\n",
    "        },\n",
    "        \"metadata\": {\"meta\": 0}\n",
    "    }\n",
    "}"
   ]
  },
  {
   "cell_type": "markdown",
   "id": "f0794132-c4a6-45bf-82f9-edf2d93c8835",
   "metadata": {},
   "source": [
    "#### Ultimately, we will make use of ServiceX\n",
    "- Fetch centrally produced data (ntuple) with Rucio\n",
    "- Apply selection cuts\n",
    "- Optional:\n",
    "    - run TopCPToolKit in the backend\n",
    "        - Produce ntuples from Physlite \n",
    "        - amount of allowed systematic computing TBD\n",
    "\n",
    "Interface example:"
   ]
  },
  {
   "cell_type": "code",
   "execution_count": 4,
   "id": "692bf7ee-06fa-4433-8471-c4c87fd7ab69",
   "metadata": {},
   "outputs": [
    {
     "data": {
      "application/vnd.jupyter.widget-view+json": {
       "model_id": "33d1c29918c44e60998f22855bbdbae5",
       "version_major": 2,
       "version_minor": 0
      },
      "text/plain": [
       "Output()"
      ]
     },
     "metadata": {},
     "output_type": "display_data"
    },
    {
     "data": {
      "text/html": [
       "<pre style=\"white-space:pre;overflow-x:auto;line-height:normal;font-family:Menlo,'DejaVu Sans Mono',consolas,'Courier New',monospace\"></pre>\n"
      ],
      "text/plain": []
     },
     "metadata": {},
     "output_type": "display_data"
    }
   ],
   "source": [
    "#1) Build dataset \n",
    "rucio_did=\"user.acordeir:nominal_trig_overlap_obj_dump_sys_zprime3k.root\"\n",
    "ds=dataset.Rucio(rucio_did)\n",
    "\n",
    "#2) Write transformation\n",
    "ds_query = query.UprootRaw(\n",
    "    [\n",
    "        {\n",
    "            \"treename\": \"reco\",\n",
    "            \"filter_name\": [\"*jet_*\", \"*el_*\"], \n",
    "            \"cut\": \"num(el_pt_NOSYS)>0\",\n",
    "        }\n",
    "    ]\n",
    ")\n",
    "\n",
    "#3) Write deliver config\n",
    "spec = {\n",
    "    \"Sample\": [{\"Name\": \"from_rucio\", \"Dataset\": ds, \"Query\": ds_query}],\n",
    "}\n",
    "\n",
    "#4) Get the data \n",
    "delivered_file = deliver(spec)\n",
    "\n",
    "#fileset[\"rucio_signal\"]={\n",
    "#    \"files\": {delivered_file[\"from_rucio\"][0]: \"servicex\"},\n",
    "#    \"metadata\": {\"meta\": 0}\n",
    "#}"
   ]
  },
  {
   "cell_type": "markdown",
   "id": "55f64343-41f6-4d24-acce-4469832b6b22",
   "metadata": {},
   "source": [
    "## NanoEventsFactory\n",
    " - Lazy loading with virtual arrays \n",
    " - Ntuple ATLAS schema for tracking systematic uncertainty branches"
   ]
  },
  {
   "cell_type": "code",
   "execution_count": 5,
   "id": "7f6a6c2a-91a1-4c4c-8c56-5b80c3a71438",
   "metadata": {},
   "outputs": [
    {
     "name": "stderr",
     "output_type": "stream",
     "text": [
      "/usr/local/lib/python3.12/site-packages/atlas_schema/schema.py:175: RuntimeWarning: Missing event_ids : ['mcEventWeights', 'dataTakingYear', 'lumiBlock']\n",
      "  self._build_collections(self._form[\"fields\"], self._form[\"contents\"])\n",
      "/usr/local/lib/python3.12/site-packages/atlas_schema/schema.py:175: RuntimeWarning: I found a collection with no defined mixin: 'globalTriggerEffSF'. I will assume behavior: 'NanoCollection'. To suppress this warning next time, please define mixins for your custom collections. [mixin-undefined]\n",
      "  self._build_collections(self._form[\"fields\"], self._form[\"contents\"])\n",
      "/usr/local/lib/python3.12/site-packages/atlas_schema/schema.py:175: RuntimeWarning: I found a collection with no defined mixin: 'globalTriggerMatch'. I will assume behavior: 'Systematic'. To suppress this warning next time, please define mixins for your custom collections. [mixin-undefined]\n",
      "  self._build_collections(self._form[\"fields\"], self._form[\"contents\"])\n"
     ]
    }
   ],
   "source": [
    "events = NanoEventsFactory.from_root(fileset[\"Zprimett\"][\"files\"], mode=\"virtual\", schemaclass=NtupleSchema).events()"
   ]
  },
  {
   "cell_type": "markdown",
   "id": "c4e969cd-9363-49c1-b5ae-429d127da328",
   "metadata": {},
   "source": [
    "#### ATLAS systematic handling has never been so easy!"
   ]
  },
  {
   "cell_type": "code",
   "execution_count": 6,
   "id": "ebac83a0-26c0-4a61-bd7a-7e28af9d6261",
   "metadata": {},
   "outputs": [
    {
     "data": {
      "text/plain": [
       "['NOSYS', 'EG_RESOLUTION_AF3__1down', 'EG_RESOLUTION_AF3__1up']"
      ]
     },
     "execution_count": 6,
     "metadata": {},
     "output_type": "execute_result"
    }
   ],
   "source": [
    "#access list of systematic branches\n",
    "events.systematic_names[0:3]"
   ]
  },
  {
   "cell_type": "code",
   "execution_count": 7,
   "id": "219c50a6-7d11-4977-b269-ed71b8ba54d4",
   "metadata": {},
   "outputs": [
    {
     "data": {
      "text/plain": [
       "'Ntuple contains 313 systematics'"
      ]
     },
     "execution_count": 7,
     "metadata": {},
     "output_type": "execute_result"
    }
   ],
   "source": [
    "f\"Ntuple contains {len(events.systematic_names)} systematics\""
   ]
  },
  {
   "cell_type": "markdown",
   "id": "01f5bb4c-2a98-428b-ae75-2037eae70c56",
   "metadata": {},
   "source": [
    "### Easily access specific variations and evaluate them"
   ]
  },
  {
   "cell_type": "code",
   "execution_count": 8,
   "id": "280e5072-4397-4aef-b291-e9d0727836d2",
   "metadata": {},
   "outputs": [],
   "source": [
    "jer_variations=[s for s in events.systematic_names if \"JER\" in s]"
   ]
  },
  {
   "cell_type": "code",
   "execution_count": 9,
   "id": "09703645-ccb3-485b-8465-1ee84fd97219",
   "metadata": {
    "scrolled": true
   },
   "outputs": [
    {
     "data": {
      "text/plain": [
       "Text(0, 1, 'Entries')"
      ]
     },
     "execution_count": 9,
     "metadata": {},
     "output_type": "execute_result"
    },
    {
     "data": {
      "image/png": "[encoded data removed]",
      "text/plain": [
       "<Figure size 800x600 with 1 Axes>"
      ]
     },
     "metadata": {},
     "output_type": "display_data"
    }
   ],
   "source": [
    "h = hist.new.Regular(30, 50, 1400, label=\"Leading jet $p_T$ (GeV)\").StrCat([], name=\"variation\", growth=True).Double()\n",
    "\n",
    "for variation in [\"NOSYS\"] + jer_variations[0:4]:\n",
    "    event_view = events[variation]\n",
    "    h.fill(event_view.jet.pt[:, 0] / 1_000, variation=variation)\n",
    "\n",
    "\n",
    "fig, ax = plt.subplots()\n",
    "for variation in h.axes[1]:\n",
    "    h[:, variation].plot(histtype=\"step\", label=variation, ax=ax)\n",
    "    \n",
    "ax.legend(fontsize=\"x-small\", loc=1)\n",
    "ax.set_ylabel(\"Entries\")"
   ]
  },
  {
   "cell_type": "markdown",
   "id": "c11c83d3-c03a-41d2-8e25-bbec16f8c50f",
   "metadata": {},
   "source": [
    "## Coffea processor approach \n",
    "#### Distributed workers"
   ]
  },
  {
   "cell_type": "code",
   "execution_count": 10,
   "id": "62466d44-98a1-4551-b28e-729f1e473a31",
   "metadata": {},
   "outputs": [],
   "source": [
    "from dask.distributed import Client, PipInstall\n",
    "\n",
    "client = Client(\"tls://localhost:8786\")\n",
    "\n",
    "plugin = PipInstall(packages=[\"atlas_schema\", \"atlasopenmagic\"], pip_options=[\"--upgrade\"])\n",
    "client.register_plugin(plugin)"
   ]
  },
  {
   "cell_type": "code",
   "execution_count": 10,
   "id": "7d6d782b-4b31-40cb-9d68-7e83c5b4d8d5",
   "metadata": {
    "scrolled": true
   },
   "outputs": [],
   "source": [
    "from coffea import processor\n",
    "\n",
    "def get_xsec_norm(dsid):\n",
    "    # not including normalization by sum of weights (that one depends on the number of files processed)\n",
    "    lumi = 36646.74 # / pb\n",
    "    meta = atlasopenmagic.get_metadata(dsid)\n",
    "    return lumi * meta[\"cross_section_pb\"] * meta[\"kFactor\"] * meta[\"genFiltEff\"]\n",
    "\n",
    "\n",
    "class Analysis(processor.ProcessorABC):\n",
    "    def __init__(self):\n",
    "        self.h = hist.new.Regular(12, 0, 300, label=\"leading jet $p_T$\").\\\n",
    "            StrCat([], name=\"dsid\", growth=True).StrCat([], name=\"variation\", growth=True).\\\n",
    "            Weight()\n",
    "\n",
    "    def process(self, events):\n",
    "        f = uproot.open(events.metadata[\"filename\"])\n",
    "        sim_type, mc_campaign, dsid, etag = f[\"metadata\"].axes[0]\n",
    "        sumw = float(f[f\"CutBookkeeper_{dsid}_284500_NOSYS\"].values()[1])  # initial sum of weights\n",
    "        systematics_from_hist = list(f[\"listOfSystematics\"].axes[0])\n",
    "        list_of_variations =  events.systematic_names\n",
    "        # ensure systematics in schema and in histogram match\n",
    "        assert sorted(systematics_from_hist) == sorted(list_of_variations)  \n",
    "\n",
    "        # run over subset of systematics\n",
    "        for variation in [\"NOSYS\"] + [sys for sys in events.systematic_names if sys.startswith(\"JET_JER_EffectiveNP_1_\")]:\n",
    "            print(variation)\n",
    "            event_view = events[variation]\n",
    "            self.h.fill(event_view.jet.pt[:, 0] / 1_000, dsid=dsid, variation=variation, weight=event_view.weight.mc)\n",
    "        return {\n",
    "            \"hist\": self.h,\n",
    "            \"meta\": {\n",
    "                \"sumw\": {dsid: {(events.metadata[\"fileuuid\"], sumw)}}}  # sumw in set to avoid summing\n",
    "        }  \n",
    "\n",
    "    def postprocess(self, accumulator):\n",
    "        # normalize histograms\n",
    "        # https://topcptoolkit.docs.cern.ch/latest/starting/running_local/#sum-of-weights\n",
    "        for dsid in accumulator[\"hist\"].axes[1]:\n",
    "            norm = get_xsec_norm(dsid) / sum([sumw for uuid, sumw in accumulator[\"meta\"][\"sumw\"][dsid]])\n",
    "            accumulator[\"hist\"][:, dsid, :] = np.stack([accumulator[\"hist\"][:, dsid, :].values()*norm, accumulator[\"hist\"][:, dsid, :].variances()*norm**2], axis=-1)\n"
   ]
  },
  {
   "cell_type": "code",
   "execution_count": null,
   "id": "9157fb6e-1604-483f-99e6-af515803bd88",
   "metadata": {},
   "outputs": [
    {
     "data": {
      "application/vnd.jupyter.widget-view+json": {
       "model_id": "7151c17530bc4e62a93d283f6e98971f",
       "version_major": 2,
       "version_minor": 0
      },
      "text/plain": [
       "Output()"
      ]
     },
     "metadata": {},
     "output_type": "display_data"
    },
    {
     "data": {
      "text/html": [
       "<pre style=\"white-space:pre;overflow-x:auto;line-height:normal;font-family:Menlo,'DejaVu Sans Mono',consolas,'Courier New',monospace\"></pre>\n"
      ],
      "text/plain": []
     },
     "metadata": {},
     "output_type": "display_data"
    },
    {
     "data": {
      "application/vnd.jupyter.widget-view+json": {
       "model_id": "6c16d9c3705a4957a3137b060ec5fde8",
       "version_major": 2,
       "version_minor": 0
      },
      "text/plain": [
       "Output()"
      ]
     },
     "metadata": {},
     "output_type": "display_data"
    },
    {
     "data": {
      "text/html": [
       "<pre style=\"white-space:pre;overflow-x:auto;line-height:normal;font-family:Menlo,'DejaVu Sans Mono',consolas,'Courier New',monospace\">/usr/local/lib/python3.12/site-packages/atlas_schema/schema.py:175: RuntimeWarning: Missing event_ids : \n",
       "['mcEventWeights', 'dataTakingYear', 'lumiBlock']\n",
       "  self._build_collections(self._form[\"fields\"], self._form[\"contents\"])\n",
       "</pre>\n"
      ],
      "text/plain": [
       "/usr/local/lib/python3.12/site-packages/atlas_schema/schema.py:175: RuntimeWarning: Missing event_ids : \n",
       "['mcEventWeights', 'dataTakingYear', 'lumiBlock']\n",
       "  self._build_collections(self._form[\"fields\"], self._form[\"contents\"])\n"
      ]
     },
     "metadata": {},
     "output_type": "display_data"
    },
    {
     "data": {
      "text/html": [
       "<pre style=\"white-space:pre;overflow-x:auto;line-height:normal;font-family:Menlo,'DejaVu Sans Mono',consolas,'Courier New',monospace\">/usr/local/lib/python3.12/site-packages/atlas_schema/schema.py:175: RuntimeWarning: I found a collection with no \n",
       "defined mixin: 'globalTriggerEffSF'. I will assume behavior: 'NanoCollection'. To suppress this warning next time, \n",
       "please define mixins for your custom collections. [mixin-undefined]\n",
       "  self._build_collections(self._form[\"fields\"], self._form[\"contents\"])\n",
       "</pre>\n"
      ],
      "text/plain": [
       "/usr/local/lib/python3.12/site-packages/atlas_schema/schema.py:175: RuntimeWarning: I found a collection with no \n",
       "defined mixin: 'globalTriggerEffSF'. I will assume behavior: 'NanoCollection'. To suppress this warning next time, \n",
       "please define mixins for your custom collections. [mixin-undefined]\n",
       "  self._build_collections(self._form[\"fields\"], self._form[\"contents\"])\n"
      ]
     },
     "metadata": {},
     "output_type": "display_data"
    },
    {
     "data": {
      "text/html": [
       "<pre style=\"white-space:pre;overflow-x:auto;line-height:normal;font-family:Menlo,'DejaVu Sans Mono',consolas,'Courier New',monospace\">/usr/local/lib/python3.12/site-packages/atlas_schema/schema.py:175: RuntimeWarning: I found a collection with no \n",
       "defined mixin: 'globalTriggerMatch'. I will assume behavior: 'Systematic'. To suppress this warning next time, \n",
       "please define mixins for your custom collections. [mixin-undefined]\n",
       "  self._build_collections(self._form[\"fields\"], self._form[\"contents\"])\n",
       "</pre>\n"
      ],
      "text/plain": [
       "/usr/local/lib/python3.12/site-packages/atlas_schema/schema.py:175: RuntimeWarning: I found a collection with no \n",
       "defined mixin: 'globalTriggerMatch'. I will assume behavior: 'Systematic'. To suppress this warning next time, \n",
       "please define mixins for your custom collections. [mixin-undefined]\n",
       "  self._build_collections(self._form[\"fields\"], self._form[\"contents\"])\n"
      ]
     },
     "metadata": {},
     "output_type": "display_data"
    },
    {
     "data": {
      "text/html": [
       "<pre style=\"white-space:pre;overflow-x:auto;line-height:normal;font-family:Menlo,'DejaVu Sans Mono',consolas,'Courier New',monospace\">NOSYS\n",
       "</pre>\n"
      ],
      "text/plain": [
       "NOSYS\n"
      ]
     },
     "metadata": {},
     "output_type": "display_data"
    }
   ],
   "source": [
    "run = processor.Runner(\n",
    "    executor = processor.IterativeExecutor(),\n",
    "    schema=NtupleSchema,\n",
    "    savemetrics=True,\n",
    "    chunksize=50000\n",
    ")\n",
    "samples = run.preprocess(fileset)\n",
    "\n",
    "out, report = run(samples, processor_instance=Analysis())\n",
    "\n",
    "out, report"
   ]
  },
  {
   "cell_type": "code",
   "execution_count": null,
   "id": "7fc908ef-b02c-4d2b-9627-96d2279cc62a",
   "metadata": {},
   "outputs": [],
   "source": [
    "dsid = \"301333\"\n",
    "h = out[\"hist\"]\n",
    "\n",
    "fig, (ax1, ax2) = plt.subplots(nrows=2, height_ratios=(3, 1), constrained_layout=True, sharex=True)\n",
    "h[:, dsid, :].plot(ax=ax1, linewidth=2)\n",
    "ax1.legend()\n",
    "ax1.set_ylabel(\"count\")\n",
    "\n",
    "edges = h[:, dsid, :].axes[0].edges\n",
    "ax2.plot(edges, [1]*len(edges), color=\"black\", linestyle=\"dashed\", linewidth=1)\n",
    "for ivar, variation in enumerate(h.axes[2]):\n",
    "    if variation == \"NOSYS\":\n",
    "        continue\n",
    "    print(ivar, variation)\n",
    "    # print(h[:, dsid, variation], \n",
    "    ratio = (h[:, dsid, variation].values() / h[:, dsid, \"NOSYS\"].values())\n",
    "    ax2.stairs(ratio, edges, color=f\"C{ivar}\", linewidth=2)\n",
    "ax2.set_ylabel(\"var/nom\")\n",
    "ax2.set_ylim([0.8, 1.2])"
   ]
  },
  {
   "cell_type": "markdown",
   "id": "93491609-bae2-4f1c-831f-e754cc9481cb",
   "metadata": {},
   "source": [
    "## Would be followed by Statistical modeling \n",
    "### Cabinatery, PyHF, TRexFitter"
   ]
  },
  {
   "cell_type": "code",
   "execution_count": null,
   "id": "7089ea12-8f6f-4af2-a70b-51b024f0b7f9",
   "metadata": {},
   "outputs": [],
   "source": []
  }
 ],
 "metadata": {
  "kernelspec": {
   "display_name": "Python 3 (ipykernel)",
   "language": "python",
   "name": "python3"
  },
  "language_info": {
   "codemirror_mode": {
    "name": "ipython",
    "version": 3
   },
   "file_extension": ".py",
   "mimetype": "text/x-python",
   "name": "python",
   "nbconvert_exporter": "python",
   "pygments_lexer": "ipython3",
   "version": "3.12.11"
  }
 },
 "nbformat": 4,
 "nbformat_minor": 5
}
